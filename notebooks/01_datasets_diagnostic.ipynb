{
 "cells": [
  {
   "cell_type": "markdown",
   "id": "17ef8ff4",
   "metadata": {},
   "source": []
  },
  {
   "cell_type": "code",
   "execution_count": null,
   "id": "582fe84d",
   "metadata": {},
   "outputs": [],
   "source": [
    "import os\n",
    "import pandas as pd\n",
    "import numpy as np\n",
    "import matplotlib.pyplot as plt\n",
    "import seaborn as sns\n",
    "import arff  # de liac-arff"
   ]
  },
  {
   "cell_type": "code",
   "execution_count": 3,
   "id": "a72eef04",
   "metadata": {},
   "outputs": [],
   "source": [
    "DATA_DIR = \"../data/raw\"\n",
    "\n",
    "ADULT_PATH = os.path.join(DATA_DIR, \"dataset\")\n",
    "HAR_PATH   = os.path.join(DATA_DIR, \"php0gEU7D.arff\")\n",
    "GAS_PATH   = os.path.join(DATA_DIR, \"phpN4gaxw.arff\")"
   ]
  },
  {
   "cell_type": "code",
   "execution_count": 4,
   "id": "1d4b0892",
   "metadata": {},
   "outputs": [],
   "source": [
    "import arff\n",
    "import pandas as pd\n",
    "\n",
    "with open(\"../data/raw/dataset\") as f:\n",
    "    data = arff.load(f)\n",
    "\n",
    "columns = [attr[0] for attr in data[\"attributes\"]]\n",
    "adult_df = pd.DataFrame(data[\"data\"], columns=columns)"
   ]
  },
  {
   "cell_type": "code",
   "execution_count": 5,
   "id": "94e857e2",
   "metadata": {},
   "outputs": [
    {
     "name": "stdout",
     "output_type": "stream",
     "text": [
      "15\n"
     ]
    }
   ],
   "source": [
    "print(len(adult_df.columns))  # Debe ser 15\n"
   ]
  },
  {
   "cell_type": "code",
   "execution_count": 8,
   "id": "394fd7d5",
   "metadata": {},
   "outputs": [
    {
     "name": "stdout",
     "output_type": "stream",
     "text": [
      "age               0\n",
      "workclass         0\n",
      "fnlwgt            0\n",
      "education         0\n",
      "education.num     0\n",
      "marital.status    0\n",
      "occupation        0\n",
      "relationship      0\n",
      "race              0\n",
      "sex               0\n",
      "capital.gain      0\n",
      "capital.loss      0\n",
      "hours.per.week    0\n",
      "native.country    0\n",
      "income            0\n",
      "dtype: int64\n"
     ]
    }
   ],
   "source": [
    "print((adult_df == '?').sum())"
   ]
  },
  {
   "cell_type": "code",
   "execution_count": 7,
   "id": "810e0c78",
   "metadata": {},
   "outputs": [
    {
     "name": "stdout",
     "output_type": "stream",
     "text": [
      "['age', 'workclass', 'fnlwgt', 'education', 'education.num', 'marital.status', 'occupation', 'relationship', 'race', 'sex', 'capital.gain', 'capital.loss', 'hours.per.week', 'native.country', 'income']\n"
     ]
    }
   ],
   "source": [
    "print(adult_df.columns.tolist())"
   ]
  }
 ],
 "metadata": {
  "kernelspec": {
   "display_name": "ConversationalDataOps",
   "language": "python",
   "name": "python3"
  },
  "language_info": {
   "codemirror_mode": {
    "name": "ipython",
    "version": 3
   },
   "file_extension": ".py",
   "mimetype": "text/x-python",
   "name": "python",
   "nbconvert_exporter": "python",
   "pygments_lexer": "ipython3",
   "version": "3.11.13"
  }
 },
 "nbformat": 4,
 "nbformat_minor": 5
}
